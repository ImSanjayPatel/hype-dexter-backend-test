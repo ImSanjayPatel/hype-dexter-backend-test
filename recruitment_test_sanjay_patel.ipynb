{
 "cells": [
  {
   "attachments": {},
   "cell_type": "markdown",
   "metadata": {},
   "source": [
    "<b><h1>Hype & Dexter Backend Test</h1></b>\n",
    "\n",
    "<b>Sanjay Patel \\\n",
    "10/12/2022</b>"
   ]
  },
  {
   "cell_type": "markdown",
   "metadata": {},
   "source": [
    "-----"
   ]
  },
  {
   "attachments": {},
   "cell_type": "markdown",
   "metadata": {},
   "source": [
    "<h2><b>Tables of Contents</b></h2>\n",
    "\n",
    "- 1.0. Objectives\n",
    "- 2.0. Creating the Program\n",
    "    - 2.1. Update Company name\n",
    "    - 2.2. Create Parent Companies\n",
    "    - 2.3. Build Parent/Child Association"
   ]
  },
  {
   "cell_type": "markdown",
   "metadata": {},
   "source": [
    "-----"
   ]
  },
  {
   "attachments": {},
   "cell_type": "markdown",
   "metadata": {},
   "source": [
    "<b><h2>1.0. Objectives</h2></b>\n",
    "\n",
    "- Identify child companies - based on the internal ‘Client Parent Company ID’ or if company is not a child company\n",
    "- Update the Company ‘Name’ using the supplied CSV as a reference\n",
    "- Create parent company (if needed), where the  ‘Client Parent Company ID’ becomes that company’s “Client Company Location ID”.\n",
    "- Associate each child company to the newly created parent company\n",
    "- Document/ commit your code on your choice of repository (GitHub preferable)\n"
   ]
  },
  {
   "cell_type": "markdown",
   "metadata": {},
   "source": [
    "-----"
   ]
  },
  {
   "attachments": {},
   "cell_type": "markdown",
   "metadata": {},
   "source": [
    "<b><h2>2.0. Creating the Program</h2></b>"
   ]
  },
  {
   "cell_type": "code",
   "execution_count": 1,
   "metadata": {},
   "outputs": [],
   "source": [
    "# import the libraries\n",
    "import numpy as np\n",
    "import pandas as pd\n",
    "import re\n",
    "import hubspot\n",
    "from typing import List\n",
    "from collections import Counter\n",
    "from pprint import pprint\n",
    "from hubspot import HubSpot\n",
    "from hubspot.crm.companies import SimplePublicObjectInput\n"
   ]
  },
  {
   "cell_type": "code",
   "execution_count": 535,
   "metadata": {},
   "outputs": [],
   "source": [
    "# read private app token from external file for security (as opposed to hard coding it)\n",
    "f = open('token.txt', 'r')\n",
    "token = f.readline()"
   ]
  },
  {
   "attachments": {},
   "cell_type": "markdown",
   "metadata": {},
   "source": [
    "<b><h3>2.1. Update Company Name</h3></b>"
   ]
  },
  {
   "cell_type": "code",
   "execution_count": 537,
   "metadata": {},
   "outputs": [],
   "source": [
    "# create client\n",
    "client = hubspot.Client.create(access_token=token)"
   ]
  },
  {
   "cell_type": "code",
   "execution_count": 538,
   "metadata": {},
   "outputs": [],
   "source": [
    "# get response\n",
    "response = client.crm.companies.get_all(properties=[\"hs_object_id, name, right_company_name, client_company_location_id, client_parent_company_id\"])"
   ]
  },
  {
   "cell_type": "code",
   "execution_count": null,
   "metadata": {},
   "outputs": [],
   "source": [
    "# pretty print the response to check if we've received valid data\n",
    "pprint(response)"
   ]
  },
  {
   "cell_type": "code",
   "execution_count": 338,
   "metadata": {},
   "outputs": [
    {
     "name": "stdout",
     "output_type": "stream",
     "text": [
      "361\n"
     ]
    }
   ],
   "source": [
    "# get number of companies i.e. the length to reference later\n",
    "num_of_companies = len(response)\n",
    "print(num_of_companies)"
   ]
  },
  {
   "cell_type": "code",
   "execution_count": 339,
   "metadata": {},
   "outputs": [],
   "source": [
    "# get all the company info into a single array\n",
    "company_all_info = []\n",
    "\n",
    "for companies in response:\n",
    "    company_all_info.append(companies.to_dict())"
   ]
  },
  {
   "cell_type": "code",
   "execution_count": 340,
   "metadata": {},
   "outputs": [
    {
     "data": {
      "text/plain": [
       "dict"
      ]
     },
     "execution_count": 340,
     "metadata": {},
     "output_type": "execute_result"
    }
   ],
   "source": [
    "# check type to see what data type we have\n",
    "type(company_all_info[0])"
   ]
  },
  {
   "cell_type": "code",
   "execution_count": 527,
   "metadata": {},
   "outputs": [
    {
     "data": {
      "text/plain": [
       "{'client_company_location_id': '5230',\n",
       " 'client_parent_company_id': '4157',\n",
       " 'createdate': '2022-12-08T20:29:11.406Z',\n",
       " 'hs_lastmodifieddate': '2022-12-10T03:29:09.161Z',\n",
       " 'hs_object_id': '10287658376',\n",
       " 'name': 'Datacom Systems Ltd',\n",
       " 'right_company_name': 'Datacom Systems Ltd - 5230'}"
      ]
     },
     "execution_count": 527,
     "metadata": {},
     "output_type": "execute_result"
    }
   ],
   "source": [
    "# check properties of a given company\n",
    "company_all_info[0]['properties']"
   ]
  },
  {
   "cell_type": "code",
   "execution_count": 342,
   "metadata": {},
   "outputs": [],
   "source": [
    "# init arrays for each of the properties\n",
    "company_id_list = []\n",
    "right_name_company_list = []\n",
    "location_id_list = []\n",
    "parent_id_list = []"
   ]
  },
  {
   "cell_type": "code",
   "execution_count": 343,
   "metadata": {},
   "outputs": [],
   "source": [
    "# append each of the properties to their respective arrays\n",
    "for companies in company_all_info:\n",
    "    company_id_list.append(companies['properties']['hs_object_id'])\n",
    "\n",
    "for companies in company_all_info:\n",
    "    right_name_company_list.append(companies['properties']['right_company_name'])\n",
    "\n",
    "for companies in company_all_info:\n",
    "    location_id_list.append(companies['properties']['client_company_location_id'])\n",
    "\n",
    "for companies in company_all_info:\n",
    "    # check if parent company id is NULL\n",
    "    if not (re.search('parent', companies['properties']['right_company_name'], re.IGNORECASE)):\n",
    "        parent_id_list.append(companies['properties']['client_parent_company_id'])\n",
    "    else:\n",
    "        parent_id_list.append(-1)"
   ]
  },
  {
   "cell_type": "code",
   "execution_count": 344,
   "metadata": {},
   "outputs": [],
   "source": [
    "# create a dictionary of company id and right company name for ease of use\n",
    "company_names_dict = dict(zip(company_id_list, right_name_company_list))"
   ]
  },
  {
   "cell_type": "code",
   "execution_count": 345,
   "metadata": {},
   "outputs": [],
   "source": [
    "# use regex to clean text of the company names\n",
    "# e.g Datacom Systems Ltd - 5230\n",
    "# to  Datacom Systems Ltd  \n",
    "def clean_text(text: str) -> str:\n",
    "    text = re.sub(r'-\\W', ' ', text)\n",
    "    text = re.sub(r'\\d', ' ', text)\n",
    "    re.sub(r'\\s+', ' ', text)\n",
    "    text = text.strip()\n",
    "\n",
    "    return text"
   ]
  },
  {
   "cell_type": "code",
   "execution_count": 346,
   "metadata": {},
   "outputs": [],
   "source": [
    "def update_company_names(companies_dict: str) -> None:\n",
    "    \n",
    "    for index in range(len(companies_dict)):\n",
    "        # property to be updated\n",
    "        properties = {\n",
    "            \"name\": list(companies_dict.values())[index] # gets the value from the given index\n",
    "        }\n",
    "\n",
    "        # create object with the updated property\n",
    "        simple_public_object_input = SimplePublicObjectInput(properties=properties)\n",
    "\n",
    "        # send the update\n",
    "        api_response = client.crm.companies.basic_api.update(company_id=list(companies_dict.keys())[index], simple_public_object_input=simple_public_object_input)"
   ]
  },
  {
   "cell_type": "code",
   "execution_count": 347,
   "metadata": {},
   "outputs": [],
   "source": [
    "# update the compnay names\n",
    "update_company_names(company_names_dict)"
   ]
  },
  {
   "cell_type": "markdown",
   "metadata": {},
   "source": [
    "-----"
   ]
  },
  {
   "attachments": {},
   "cell_type": "markdown",
   "metadata": {},
   "source": [
    "<b><h3>2.2. Create Parent Companies</h3></b>"
   ]
  },
  {
   "cell_type": "code",
   "execution_count": 348,
   "metadata": {},
   "outputs": [],
   "source": [
    "# list for cleaned company names\n",
    "clean_company_names_list = [clean_text(name) for name in right_name_company_list]"
   ]
  },
  {
   "cell_type": "code",
   "execution_count": 350,
   "metadata": {},
   "outputs": [],
   "source": [
    "# cleaned company names dictionary to reference later\n",
    "clean_company_names_dict = dict(zip(company_id_list, clean_company_names_list))\n",
    "\n",
    "# parrent id dictionary to reference later\n",
    "company_parent_id_dict = dict(zip(company_id_list, parent_id_list))"
   ]
  },
  {
   "cell_type": "code",
   "execution_count": 352,
   "metadata": {},
   "outputs": [],
   "source": [
    "def get_company_name(id: str) -> str:\n",
    "    \n",
    "    # get the correct object id to reference\n",
    "    company_object_id = list(company_parent_id_dict.keys())[list(company_parent_id_dict.values()).index(id)]\n",
    "\n",
    "    # use the object id to get the corresponding name\n",
    "    name = clean_company_names_dict.get(company_object_id)\n",
    "\n",
    "    return name"
   ]
  },
  {
   "cell_type": "code",
   "execution_count": 355,
   "metadata": {},
   "outputs": [],
   "source": [
    "def create_parent_companies(parent_company_list: List[str]) -> None:\n",
    "\n",
    "    for id in parent_company_list:\n",
    "        if id not in location_id_list:\n",
    "            \n",
    "            # create parent company   properties      \n",
    "            properties = {\n",
    "                \"name\": get_company_name(str(id)) + \" (Parent)\",\n",
    "                \"right_company_name\": get_company_name(str(id)) + \" (Parent)\",\n",
    "                \"client_company_location_id\": id\n",
    "\n",
    "            }\n",
    "\n",
    "            # create each company with the above properties\n",
    "            simple_public_object_input = SimplePublicObjectInput(properties=properties)\n",
    "            api_response = client.crm.companies.basic_api.create(simple_public_object_input=simple_public_object_input)"
   ]
  },
  {
   "cell_type": "code",
   "execution_count": 356,
   "metadata": {},
   "outputs": [],
   "source": [
    "# get count of number of companeis per parent company id\n",
    "count_of_company_location_id = dict(Counter(parent_id_list))"
   ]
  },
  {
   "cell_type": "code",
   "execution_count": 357,
   "metadata": {},
   "outputs": [],
   "source": [
    "# only add companies that have more the one entity and is not -1 i.e. an existing parent company\n",
    "parents_to_create = {x: count for x, count in count_of_company_location_id.items() if count >= 2 and x != -1}"
   ]
  },
  {
   "cell_type": "code",
   "execution_count": 359,
   "metadata": {},
   "outputs": [],
   "source": [
    "# create the parent companies\n",
    "create_parent_companies(list(parents_to_create.keys()))"
   ]
  },
  {
   "cell_type": "markdown",
   "metadata": {},
   "source": [
    "-----"
   ]
  },
  {
   "attachments": {},
   "cell_type": "markdown",
   "metadata": {},
   "source": [
    "<b><h3>2.3. Build Parent/Child Association</h3></b>"
   ]
  },
  {
   "cell_type": "code",
   "execution_count": 360,
   "metadata": {},
   "outputs": [],
   "source": [
    "# get updated object IDs of the new parent companies \n",
    "response = client.crm.companies.get_all(properties=[\"hs_object_id, name, right_company_name, client_company_location_id, client_parent_company_id\"])\n",
    "\n",
    "updated_company_id = []\n",
    "\n",
    "for companies in response:\n",
    "    updated_company_id.append(companies.to_dict())"
   ]
  },
  {
   "cell_type": "code",
   "execution_count": 361,
   "metadata": {},
   "outputs": [
    {
     "data": {
      "text/plain": [
       "388"
      ]
     },
     "execution_count": 361,
     "metadata": {},
     "output_type": "execute_result"
    }
   ],
   "source": [
    "# ensure the correct length to confirm new parent companies\n",
    "len(updated_company_id)"
   ]
  },
  {
   "cell_type": "code",
   "execution_count": 425,
   "metadata": {},
   "outputs": [],
   "source": [
    "updated_company_id_list = []\n",
    "updated_location_id_list = []\n",
    "updated_parent_id_list = []\n",
    "\n",
    "for companies in updated_company_id:\n",
    "    updated_company_id_list.append(companies['properties']['hs_object_id'])\n",
    "\n",
    "for companies in updated_company_id:\n",
    "    updated_location_id_list.append(companies['properties']['client_company_location_id'])\n",
    "\n",
    "for companies in updated_company_id:\n",
    "    # check if parent company id is NULL\n",
    "    if not (re.search('parent', companies['properties']['right_company_name'], re.IGNORECASE)):\n",
    "        updated_parent_id_list.append(companies['properties']['client_parent_company_id'])\n",
    "    else:\n",
    "        updated_parent_id_list.append(-1)"
   ]
  },
  {
   "cell_type": "code",
   "execution_count": 365,
   "metadata": {},
   "outputs": [],
   "source": [
    "# crete dictionaries to use later\n",
    "updated_company_location_dict = dict(zip(updated_company_id_list, updated_location_id_list))\n",
    "updated_company_parent_id_dict = dict(zip(updated_company_id_list, updated_parent_id_list))"
   ]
  },
  {
   "cell_type": "code",
   "execution_count": 531,
   "metadata": {},
   "outputs": [],
   "source": [
    "def get_object_id(location_id: str) -> str:\n",
    "    \n",
    "    # use list comprehension to get the index for a given key. Then use that index to find the corresponding object id\n",
    "    object_id = list(updated_company_location_dict.keys())[list(updated_company_location_dict.values()).index(location_id)]\n",
    "\n",
    "    return id"
   ]
  },
  {
   "cell_type": "code",
   "execution_count": 500,
   "metadata": {},
   "outputs": [],
   "source": [
    "def get_parent_id(object_id: str) -> str:\n",
    "\n",
    "    # get parent id by using the object id as key and get corresponding value\n",
    "    parent_id = updated_company_parent_id_dict.get(object_id)\n",
    "\n",
    "    return parent_id\n",
    "\n"
   ]
  },
  {
   "cell_type": "code",
   "execution_count": 435,
   "metadata": {},
   "outputs": [],
   "source": [
    "def create_association(parent_object_id, child_object_id):\n",
    "    \n",
    "    api_response = client.crm.companies.associations_api.create(company_id=int(parent_object_id), \n",
    "                                                                to_object_type=\"company\", \n",
    "                                                                to_object_id=int(child_object_id), \n",
    "                                                                association_spec=[{\"associationCategory\":\"HUBSPOT_DEFINED\",\"associationTypeId\":13}])\n"
   ]
  },
  {
   "cell_type": "code",
   "execution_count": null,
   "metadata": {},
   "outputs": [],
   "source": [
    "# run loop to create associations based on the conditions below\n",
    "for id in updated_location_id_list:\n",
    "    \n",
    "    # get child object id based on location id\n",
    "    child_object_id = get_object_id(id)    \n",
    "\n",
    "    # get parent id for child based on object id\n",
    "    child_parent_id = get_parent_id(child_object_id)\n",
    "\n",
    "    # check if child's parent id is in location id list\n",
    "    if(child_parent_id in updated_location_id_list):\n",
    "\n",
    "        # get parent object id based on child parent id\n",
    "        parent_object_id = get_object_id(child_parent_id)\n",
    "\n",
    "        # create parent-child association\n",
    "        create_association(parent_object_id, child_object_id)"
   ]
  }
 ],
 "metadata": {
  "kernelspec": {
   "display_name": "Python 3",
   "language": "python",
   "name": "python3"
  },
  "language_info": {
   "codemirror_mode": {
    "name": "ipython",
    "version": 3
   },
   "file_extension": ".py",
   "mimetype": "text/x-python",
   "name": "python",
   "nbconvert_exporter": "python",
   "pygments_lexer": "ipython3",
   "version": "3.10.5"
  },
  "orig_nbformat": 4,
  "vscode": {
   "interpreter": {
    "hash": "9984f5fd75a63c97ca99c2798f42e19f0a03eb88a13709c8345053888d20478e"
   }
  }
 },
 "nbformat": 4,
 "nbformat_minor": 2
}
